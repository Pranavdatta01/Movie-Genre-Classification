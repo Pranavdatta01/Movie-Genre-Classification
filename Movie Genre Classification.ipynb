{
 "cells": [
  {
   "cell_type": "code",
   "execution_count": 2,
   "id": "a0740d74-2a2d-4e69-bef8-a051a5c49672",
   "metadata": {},
   "outputs": [],
   "source": [
    "import numpy as np\n",
    "import pandas as pd\n",
    "import matplotlib.pyplot as plt\n",
    "import seaborn as sns\n",
    "import re\n",
    "import string\n",
    "import nltk\n",
    "from nltk.corpus import stopwords\n",
    "from nltk.stem import LancasterStemmer\n",
    "from collections import Counter\n",
    "from sklearn.model_selection import train_test_split\n",
    "from sklearn.preprocessing import LabelEncoder\n",
    "from sklearn.metrics import classification_report, accuracy_score"
   ]
  },
  {
   "cell_type": "markdown",
   "id": "d3e32062-3b63-4817-b848-4ce3eb94e26e",
   "metadata": {},
   "source": [
    "## Load the dataset"
   ]
  },
  {
   "cell_type": "code",
   "execution_count": 4,
   "id": "68763c31-4363-4ad6-98af-4cea1ff52ffc",
   "metadata": {},
   "outputs": [
    {
     "data": {
      "text/html": [
       "<div>\n",
       "<style scoped>\n",
       "    .dataframe tbody tr th:only-of-type {\n",
       "        vertical-align: middle;\n",
       "    }\n",
       "\n",
       "    .dataframe tbody tr th {\n",
       "        vertical-align: top;\n",
       "    }\n",
       "\n",
       "    .dataframe thead th {\n",
       "        text-align: right;\n",
       "    }\n",
       "</style>\n",
       "<table border=\"1\" class=\"dataframe\">\n",
       "  <thead>\n",
       "    <tr style=\"text-align: right;\">\n",
       "      <th></th>\n",
       "      <th>ID</th>\n",
       "      <th>Title</th>\n",
       "      <th>Genre</th>\n",
       "      <th>Description</th>\n",
       "    </tr>\n",
       "  </thead>\n",
       "  <tbody>\n",
       "    <tr>\n",
       "      <th>0</th>\n",
       "      <td>1</td>\n",
       "      <td>Oscar et la dame rose (2009)</td>\n",
       "      <td>drama</td>\n",
       "      <td>Listening in to a conversation between his do...</td>\n",
       "    </tr>\n",
       "    <tr>\n",
       "      <th>1</th>\n",
       "      <td>2</td>\n",
       "      <td>Cupid (1997)</td>\n",
       "      <td>thriller</td>\n",
       "      <td>A brother and sister with a past incestuous r...</td>\n",
       "    </tr>\n",
       "    <tr>\n",
       "      <th>2</th>\n",
       "      <td>3</td>\n",
       "      <td>Young, Wild and Wonderful (1980)</td>\n",
       "      <td>adult</td>\n",
       "      <td>As the bus empties the students for their fie...</td>\n",
       "    </tr>\n",
       "    <tr>\n",
       "      <th>3</th>\n",
       "      <td>4</td>\n",
       "      <td>The Secret Sin (1915)</td>\n",
       "      <td>drama</td>\n",
       "      <td>To help their unemployed father make ends mee...</td>\n",
       "    </tr>\n",
       "    <tr>\n",
       "      <th>4</th>\n",
       "      <td>5</td>\n",
       "      <td>The Unrecovered (2007)</td>\n",
       "      <td>drama</td>\n",
       "      <td>The film's title refers not only to the un-re...</td>\n",
       "    </tr>\n",
       "  </tbody>\n",
       "</table>\n",
       "</div>"
      ],
      "text/plain": [
       "   ID                               Title       Genre  \\\n",
       "0   1       Oscar et la dame rose (2009)       drama    \n",
       "1   2                       Cupid (1997)    thriller    \n",
       "2   3   Young, Wild and Wonderful (1980)       adult    \n",
       "3   4              The Secret Sin (1915)       drama    \n",
       "4   5             The Unrecovered (2007)       drama    \n",
       "\n",
       "                                         Description  \n",
       "0   Listening in to a conversation between his do...  \n",
       "1   A brother and sister with a past incestuous r...  \n",
       "2   As the bus empties the students for their fie...  \n",
       "3   To help their unemployed father make ends mee...  \n",
       "4   The film's title refers not only to the un-re...  "
      ]
     },
     "execution_count": 4,
     "metadata": {},
     "output_type": "execute_result"
    }
   ],
   "source": [
    "train_data = pd.read_csv(\"train_data.txt\", sep=\":::\", engine=\"python\", names=[\"ID\", \"Title\", \"Genre\", \"Description\"])\n",
    "train_data.head()"
   ]
  },
  {
   "cell_type": "code",
   "execution_count": 5,
   "id": "d1495ef8-0335-4622-8357-f385a41512bd",
   "metadata": {},
   "outputs": [
    {
     "data": {
      "text/plain": [
       "<bound method DataFrame.info of           ID                                         Title          Genre  \\\n",
       "0          1                 Oscar et la dame rose (2009)          drama    \n",
       "1          2                                 Cupid (1997)       thriller    \n",
       "2          3             Young, Wild and Wonderful (1980)          adult    \n",
       "3          4                        The Secret Sin (1915)          drama    \n",
       "4          5                       The Unrecovered (2007)          drama    \n",
       "...      ...                                           ...            ...   \n",
       "54209  54210                              \"Bonino\" (1953)         comedy    \n",
       "54210  54211                  Dead Girls Don't Cry (????)         horror    \n",
       "54211  54212    Ronald Goedemondt: Ze bestaan echt (2008)    documentary    \n",
       "54212  54213                     Make Your Own Bed (1944)         comedy    \n",
       "54213  54214   Nature's Fury: Storm of the Century (2006)        history    \n",
       "\n",
       "                                             Description  \n",
       "0       Listening in to a conversation between his do...  \n",
       "1       A brother and sister with a past incestuous r...  \n",
       "2       As the bus empties the students for their fie...  \n",
       "3       To help their unemployed father make ends mee...  \n",
       "4       The film's title refers not only to the un-re...  \n",
       "...                                                  ...  \n",
       "54209   This short-lived NBC live sitcom centered on ...  \n",
       "54210   The NEXT Generation of EXPLOITATION. The sist...  \n",
       "54211   Ze bestaan echt, is a stand-up comedy about g...  \n",
       "54212   Walter and Vivian live in the country and hav...  \n",
       "54213   On Labor Day Weekend, 1935, the most intense ...  \n",
       "\n",
       "[54214 rows x 4 columns]>"
      ]
     },
     "execution_count": 5,
     "metadata": {},
     "output_type": "execute_result"
    }
   ],
   "source": [
    "train_data.info"
   ]
  },
  {
   "cell_type": "code",
   "execution_count": 6,
   "id": "53435562-4382-440f-a367-1271bdea68b3",
   "metadata": {},
   "outputs": [
    {
     "data": {
      "text/html": [
       "<div>\n",
       "<style scoped>\n",
       "    .dataframe tbody tr th:only-of-type {\n",
       "        vertical-align: middle;\n",
       "    }\n",
       "\n",
       "    .dataframe tbody tr th {\n",
       "        vertical-align: top;\n",
       "    }\n",
       "\n",
       "    .dataframe thead th {\n",
       "        text-align: right;\n",
       "    }\n",
       "</style>\n",
       "<table border=\"1\" class=\"dataframe\">\n",
       "  <thead>\n",
       "    <tr style=\"text-align: right;\">\n",
       "      <th></th>\n",
       "      <th>ID</th>\n",
       "    </tr>\n",
       "  </thead>\n",
       "  <tbody>\n",
       "    <tr>\n",
       "      <th>count</th>\n",
       "      <td>54214.000000</td>\n",
       "    </tr>\n",
       "    <tr>\n",
       "      <th>mean</th>\n",
       "      <td>27107.500000</td>\n",
       "    </tr>\n",
       "    <tr>\n",
       "      <th>std</th>\n",
       "      <td>15650.378084</td>\n",
       "    </tr>\n",
       "    <tr>\n",
       "      <th>min</th>\n",
       "      <td>1.000000</td>\n",
       "    </tr>\n",
       "    <tr>\n",
       "      <th>25%</th>\n",
       "      <td>13554.250000</td>\n",
       "    </tr>\n",
       "    <tr>\n",
       "      <th>50%</th>\n",
       "      <td>27107.500000</td>\n",
       "    </tr>\n",
       "    <tr>\n",
       "      <th>75%</th>\n",
       "      <td>40660.750000</td>\n",
       "    </tr>\n",
       "    <tr>\n",
       "      <th>max</th>\n",
       "      <td>54214.000000</td>\n",
       "    </tr>\n",
       "  </tbody>\n",
       "</table>\n",
       "</div>"
      ],
      "text/plain": [
       "                 ID\n",
       "count  54214.000000\n",
       "mean   27107.500000\n",
       "std    15650.378084\n",
       "min        1.000000\n",
       "25%    13554.250000\n",
       "50%    27107.500000\n",
       "75%    40660.750000\n",
       "max    54214.000000"
      ]
     },
     "execution_count": 6,
     "metadata": {},
     "output_type": "execute_result"
    }
   ],
   "source": [
    "train_data.describe()"
   ]
  },
  {
   "cell_type": "code",
   "execution_count": 7,
   "id": "e4887b90-e1b2-4212-b6e0-d34cd4872ef6",
   "metadata": {},
   "outputs": [
    {
     "data": {
      "text/plain": [
       "ID             0\n",
       "Title          0\n",
       "Genre          0\n",
       "Description    0\n",
       "dtype: int64"
      ]
     },
     "execution_count": 7,
     "metadata": {},
     "output_type": "execute_result"
    }
   ],
   "source": [
    "train_data.isnull().sum()"
   ]
  },
  {
   "cell_type": "code",
   "execution_count": 8,
   "id": "a09da141-5217-4b0b-a36e-3b614a7715a1",
   "metadata": {},
   "outputs": [
    {
     "data": {
      "text/html": [
       "<div>\n",
       "<style scoped>\n",
       "    .dataframe tbody tr th:only-of-type {\n",
       "        vertical-align: middle;\n",
       "    }\n",
       "\n",
       "    .dataframe tbody tr th {\n",
       "        vertical-align: top;\n",
       "    }\n",
       "\n",
       "    .dataframe thead th {\n",
       "        text-align: right;\n",
       "    }\n",
       "</style>\n",
       "<table border=\"1\" class=\"dataframe\">\n",
       "  <thead>\n",
       "    <tr style=\"text-align: right;\">\n",
       "      <th></th>\n",
       "      <th>ID</th>\n",
       "      <th>Title</th>\n",
       "      <th>Genre</th>\n",
       "      <th>Description</th>\n",
       "    </tr>\n",
       "  </thead>\n",
       "  <tbody>\n",
       "    <tr>\n",
       "      <th>0</th>\n",
       "      <td>1</td>\n",
       "      <td>Edgar's Lunch (1998)</td>\n",
       "      <td>L.R. Brane loves his life - his car, his apar...</td>\n",
       "      <td>NaN</td>\n",
       "    </tr>\n",
       "    <tr>\n",
       "      <th>1</th>\n",
       "      <td>2</td>\n",
       "      <td>La guerra de papá (1977)</td>\n",
       "      <td>Spain, March 1964: Quico is a very naughty ch...</td>\n",
       "      <td>NaN</td>\n",
       "    </tr>\n",
       "    <tr>\n",
       "      <th>2</th>\n",
       "      <td>3</td>\n",
       "      <td>Off the Beaten Track (2010)</td>\n",
       "      <td>One year in the life of Albin and his family ...</td>\n",
       "      <td>NaN</td>\n",
       "    </tr>\n",
       "    <tr>\n",
       "      <th>3</th>\n",
       "      <td>4</td>\n",
       "      <td>Meu Amigo Hindu (2015)</td>\n",
       "      <td>His father has died, he hasn't spoken with hi...</td>\n",
       "      <td>NaN</td>\n",
       "    </tr>\n",
       "    <tr>\n",
       "      <th>4</th>\n",
       "      <td>5</td>\n",
       "      <td>Er nu zhai (1955)</td>\n",
       "      <td>Before he was known internationally as a mart...</td>\n",
       "      <td>NaN</td>\n",
       "    </tr>\n",
       "  </tbody>\n",
       "</table>\n",
       "</div>"
      ],
      "text/plain": [
       "   ID                          Title  \\\n",
       "0   1          Edgar's Lunch (1998)    \n",
       "1   2      La guerra de papá (1977)    \n",
       "2   3   Off the Beaten Track (2010)    \n",
       "3   4        Meu Amigo Hindu (2015)    \n",
       "4   5             Er nu zhai (1955)    \n",
       "\n",
       "                                               Genre  Description  \n",
       "0   L.R. Brane loves his life - his car, his apar...          NaN  \n",
       "1   Spain, March 1964: Quico is a very naughty ch...          NaN  \n",
       "2   One year in the life of Albin and his family ...          NaN  \n",
       "3   His father has died, he hasn't spoken with hi...          NaN  \n",
       "4   Before he was known internationally as a mart...          NaN  "
      ]
     },
     "execution_count": 8,
     "metadata": {},
     "output_type": "execute_result"
    }
   ],
   "source": [
    "test_data = pd.read_csv(\"test_data.txt\", sep=\":::\", engine=\"python\", names=[\"ID\", \"Title\", \"Genre\", \"Description\"])\n",
    "test_data.head()"
   ]
  },
  {
   "cell_type": "code",
   "execution_count": 9,
   "id": "56852bb7-4f8c-48e8-aaed-904b2182aad8",
   "metadata": {},
   "outputs": [
    {
     "data": {
      "text/plain": [
       "<bound method DataFrame.info of           ID                             Title  \\\n",
       "0          1             Edgar's Lunch (1998)    \n",
       "1          2         La guerra de papá (1977)    \n",
       "2          3      Off the Beaten Track (2010)    \n",
       "3          4           Meu Amigo Hindu (2015)    \n",
       "4          5                Er nu zhai (1955)    \n",
       "...      ...                               ...   \n",
       "54195  54196   \"Tales of Light & Dark\" (2013)    \n",
       "54196  54197      Der letzte Mohikaner (1965)    \n",
       "54197  54198              Oliver Twink (2007)    \n",
       "54198  54199                Slipstream (1973)    \n",
       "54199  54200        Curitiba Zero Grau (2010)    \n",
       "\n",
       "                                                   Genre  Description  \n",
       "0       L.R. Brane loves his life - his car, his apar...          NaN  \n",
       "1       Spain, March 1964: Quico is a very naughty ch...          NaN  \n",
       "2       One year in the life of Albin and his family ...          NaN  \n",
       "3       His father has died, he hasn't spoken with hi...          NaN  \n",
       "4       Before he was known internationally as a mart...          NaN  \n",
       "...                                                  ...          ...  \n",
       "54195   Covering multiple genres, Tales of Light & Da...          NaN  \n",
       "54196   As Alice and Cora Munro attempt to find their...          NaN  \n",
       "54197   A movie 169 years in the making. Oliver Twist...          NaN  \n",
       "54198   Popular, but mysterious rock D.J Mike Mallard...          NaN  \n",
       "54199   Curitiba is a city in movement, with rhythms ...          NaN  \n",
       "\n",
       "[54200 rows x 4 columns]>"
      ]
     },
     "execution_count": 9,
     "metadata": {},
     "output_type": "execute_result"
    }
   ],
   "source": [
    "test_data.info"
   ]
  },
  {
   "cell_type": "code",
   "execution_count": 10,
   "id": "1f164413-f526-4d56-a1d0-13bea059561e",
   "metadata": {},
   "outputs": [
    {
     "data": {
      "text/html": [
       "<div>\n",
       "<style scoped>\n",
       "    .dataframe tbody tr th:only-of-type {\n",
       "        vertical-align: middle;\n",
       "    }\n",
       "\n",
       "    .dataframe tbody tr th {\n",
       "        vertical-align: top;\n",
       "    }\n",
       "\n",
       "    .dataframe thead th {\n",
       "        text-align: right;\n",
       "    }\n",
       "</style>\n",
       "<table border=\"1\" class=\"dataframe\">\n",
       "  <thead>\n",
       "    <tr style=\"text-align: right;\">\n",
       "      <th></th>\n",
       "      <th>ID</th>\n",
       "      <th>Description</th>\n",
       "    </tr>\n",
       "  </thead>\n",
       "  <tbody>\n",
       "    <tr>\n",
       "      <th>count</th>\n",
       "      <td>54200.000000</td>\n",
       "      <td>0.0</td>\n",
       "    </tr>\n",
       "    <tr>\n",
       "      <th>mean</th>\n",
       "      <td>27100.500000</td>\n",
       "      <td>NaN</td>\n",
       "    </tr>\n",
       "    <tr>\n",
       "      <th>std</th>\n",
       "      <td>15646.336632</td>\n",
       "      <td>NaN</td>\n",
       "    </tr>\n",
       "    <tr>\n",
       "      <th>min</th>\n",
       "      <td>1.000000</td>\n",
       "      <td>NaN</td>\n",
       "    </tr>\n",
       "    <tr>\n",
       "      <th>25%</th>\n",
       "      <td>13550.750000</td>\n",
       "      <td>NaN</td>\n",
       "    </tr>\n",
       "    <tr>\n",
       "      <th>50%</th>\n",
       "      <td>27100.500000</td>\n",
       "      <td>NaN</td>\n",
       "    </tr>\n",
       "    <tr>\n",
       "      <th>75%</th>\n",
       "      <td>40650.250000</td>\n",
       "      <td>NaN</td>\n",
       "    </tr>\n",
       "    <tr>\n",
       "      <th>max</th>\n",
       "      <td>54200.000000</td>\n",
       "      <td>NaN</td>\n",
       "    </tr>\n",
       "  </tbody>\n",
       "</table>\n",
       "</div>"
      ],
      "text/plain": [
       "                 ID  Description\n",
       "count  54200.000000          0.0\n",
       "mean   27100.500000          NaN\n",
       "std    15646.336632          NaN\n",
       "min        1.000000          NaN\n",
       "25%    13550.750000          NaN\n",
       "50%    27100.500000          NaN\n",
       "75%    40650.250000          NaN\n",
       "max    54200.000000          NaN"
      ]
     },
     "execution_count": 10,
     "metadata": {},
     "output_type": "execute_result"
    }
   ],
   "source": [
    "test_data.describe()"
   ]
  },
  {
   "cell_type": "code",
   "execution_count": 11,
   "id": "5d89e780-737c-49a1-93a6-87507e763bf1",
   "metadata": {},
   "outputs": [
    {
     "data": {
      "text/plain": [
       "ID                 0\n",
       "Title              0\n",
       "Genre              0\n",
       "Description    54200\n",
       "dtype: int64"
      ]
     },
     "execution_count": 11,
     "metadata": {},
     "output_type": "execute_result"
    }
   ],
   "source": [
    "test_data.isnull().sum()"
   ]
  },
  {
   "cell_type": "code",
   "execution_count": 12,
   "id": "935a65de-133a-4390-8f32-0e0c413bee83",
   "metadata": {},
   "outputs": [],
   "source": [
    "# dropping off unnecessary columns\n",
    "\n",
    "train_data=train_data.drop(['ID'],axis=1)\n",
    "test_data=test_data.drop(['ID'],axis=1)"
   ]
  },
  {
   "cell_type": "code",
   "execution_count": 13,
   "id": "572fe098-f04a-4896-81cb-b8b2bdb7d6e2",
   "metadata": {},
   "outputs": [
    {
     "data": {
      "text/html": [
       "<div>\n",
       "<style scoped>\n",
       "    .dataframe tbody tr th:only-of-type {\n",
       "        vertical-align: middle;\n",
       "    }\n",
       "\n",
       "    .dataframe tbody tr th {\n",
       "        vertical-align: top;\n",
       "    }\n",
       "\n",
       "    .dataframe thead th {\n",
       "        text-align: right;\n",
       "    }\n",
       "</style>\n",
       "<table border=\"1\" class=\"dataframe\">\n",
       "  <thead>\n",
       "    <tr style=\"text-align: right;\">\n",
       "      <th></th>\n",
       "      <th>Title</th>\n",
       "      <th>Genre</th>\n",
       "      <th>Description</th>\n",
       "    </tr>\n",
       "  </thead>\n",
       "  <tbody>\n",
       "    <tr>\n",
       "      <th>0</th>\n",
       "      <td>Oscar et la dame rose (2009)</td>\n",
       "      <td>drama</td>\n",
       "      <td>Listening in to a conversation between his do...</td>\n",
       "    </tr>\n",
       "    <tr>\n",
       "      <th>1</th>\n",
       "      <td>Cupid (1997)</td>\n",
       "      <td>thriller</td>\n",
       "      <td>A brother and sister with a past incestuous r...</td>\n",
       "    </tr>\n",
       "    <tr>\n",
       "      <th>2</th>\n",
       "      <td>Young, Wild and Wonderful (1980)</td>\n",
       "      <td>adult</td>\n",
       "      <td>As the bus empties the students for their fie...</td>\n",
       "    </tr>\n",
       "    <tr>\n",
       "      <th>3</th>\n",
       "      <td>The Secret Sin (1915)</td>\n",
       "      <td>drama</td>\n",
       "      <td>To help their unemployed father make ends mee...</td>\n",
       "    </tr>\n",
       "    <tr>\n",
       "      <th>4</th>\n",
       "      <td>The Unrecovered (2007)</td>\n",
       "      <td>drama</td>\n",
       "      <td>The film's title refers not only to the un-re...</td>\n",
       "    </tr>\n",
       "  </tbody>\n",
       "</table>\n",
       "</div>"
      ],
      "text/plain": [
       "                                Title       Genre  \\\n",
       "0       Oscar et la dame rose (2009)       drama    \n",
       "1                       Cupid (1997)    thriller    \n",
       "2   Young, Wild and Wonderful (1980)       adult    \n",
       "3              The Secret Sin (1915)       drama    \n",
       "4             The Unrecovered (2007)       drama    \n",
       "\n",
       "                                         Description  \n",
       "0   Listening in to a conversation between his do...  \n",
       "1   A brother and sister with a past incestuous r...  \n",
       "2   As the bus empties the students for their fie...  \n",
       "3   To help their unemployed father make ends mee...  \n",
       "4   The film's title refers not only to the un-re...  "
      ]
     },
     "execution_count": 13,
     "metadata": {},
     "output_type": "execute_result"
    }
   ],
   "source": [
    "train_data.head()"
   ]
  },
  {
   "cell_type": "code",
   "execution_count": 14,
   "id": "1f6abc83-6394-4980-a495-5e609b7495ed",
   "metadata": {},
   "outputs": [
    {
     "data": {
      "text/html": [
       "<div>\n",
       "<style scoped>\n",
       "    .dataframe tbody tr th:only-of-type {\n",
       "        vertical-align: middle;\n",
       "    }\n",
       "\n",
       "    .dataframe tbody tr th {\n",
       "        vertical-align: top;\n",
       "    }\n",
       "\n",
       "    .dataframe thead th {\n",
       "        text-align: right;\n",
       "    }\n",
       "</style>\n",
       "<table border=\"1\" class=\"dataframe\">\n",
       "  <thead>\n",
       "    <tr style=\"text-align: right;\">\n",
       "      <th></th>\n",
       "      <th>Title</th>\n",
       "      <th>Genre</th>\n",
       "      <th>Description</th>\n",
       "    </tr>\n",
       "  </thead>\n",
       "  <tbody>\n",
       "    <tr>\n",
       "      <th>0</th>\n",
       "      <td>Edgar's Lunch (1998)</td>\n",
       "      <td>L.R. Brane loves his life - his car, his apar...</td>\n",
       "      <td>NaN</td>\n",
       "    </tr>\n",
       "    <tr>\n",
       "      <th>1</th>\n",
       "      <td>La guerra de papá (1977)</td>\n",
       "      <td>Spain, March 1964: Quico is a very naughty ch...</td>\n",
       "      <td>NaN</td>\n",
       "    </tr>\n",
       "    <tr>\n",
       "      <th>2</th>\n",
       "      <td>Off the Beaten Track (2010)</td>\n",
       "      <td>One year in the life of Albin and his family ...</td>\n",
       "      <td>NaN</td>\n",
       "    </tr>\n",
       "    <tr>\n",
       "      <th>3</th>\n",
       "      <td>Meu Amigo Hindu (2015)</td>\n",
       "      <td>His father has died, he hasn't spoken with hi...</td>\n",
       "      <td>NaN</td>\n",
       "    </tr>\n",
       "    <tr>\n",
       "      <th>4</th>\n",
       "      <td>Er nu zhai (1955)</td>\n",
       "      <td>Before he was known internationally as a mart...</td>\n",
       "      <td>NaN</td>\n",
       "    </tr>\n",
       "  </tbody>\n",
       "</table>\n",
       "</div>"
      ],
      "text/plain": [
       "                           Title  \\\n",
       "0          Edgar's Lunch (1998)    \n",
       "1      La guerra de papá (1977)    \n",
       "2   Off the Beaten Track (2010)    \n",
       "3        Meu Amigo Hindu (2015)    \n",
       "4             Er nu zhai (1955)    \n",
       "\n",
       "                                               Genre  Description  \n",
       "0   L.R. Brane loves his life - his car, his apar...          NaN  \n",
       "1   Spain, March 1964: Quico is a very naughty ch...          NaN  \n",
       "2   One year in the life of Albin and his family ...          NaN  \n",
       "3   His father has died, he hasn't spoken with hi...          NaN  \n",
       "4   Before he was known internationally as a mart...          NaN  "
      ]
     },
     "execution_count": 14,
     "metadata": {},
     "output_type": "execute_result"
    }
   ],
   "source": [
    "test_data.head()"
   ]
  },
  {
   "cell_type": "markdown",
   "id": "1834415d-aa93-4117-84cd-bdd4daacbb43",
   "metadata": {},
   "source": [
    "## Feature Creation"
   ]
  },
  {
   "cell_type": "code",
   "execution_count": 16,
   "id": "dfc792f9-b092-41ce-a2cb-d318716f15c0",
   "metadata": {},
   "outputs": [
    {
     "data": {
      "text/plain": [
       "'2009'"
      ]
     },
     "execution_count": 16,
     "metadata": {},
     "output_type": "execute_result"
    }
   ],
   "source": [
    "train_data['Title'][0].split('(')[-1][:4]"
   ]
  },
  {
   "cell_type": "code",
   "execution_count": 17,
   "id": "fd2fe7fa-2705-4440-a0e1-38c4ae6d4f2a",
   "metadata": {},
   "outputs": [
    {
     "data": {
      "text/plain": [
       "' Oscar et la dame rose '"
      ]
     },
     "execution_count": 17,
     "metadata": {},
     "output_type": "execute_result"
    }
   ],
   "source": [
    "train_data['Title'][0].split('(')[:-1][0]"
   ]
  },
  {
   "cell_type": "code",
   "execution_count": 18,
   "id": "4d982b09-dce1-4c7b-8477-f3dcd78199b2",
   "metadata": {},
   "outputs": [],
   "source": [
    "## Extracting Year from Movie Titles\n",
    "def extract_year(data):\n",
    "    if data.split('(')[-1][:4].isdigit():\n",
    "        return int(data.split('(')[-1][:4])\n",
    "    return None\n",
    "\n",
    "train_data['year']=train_data['Title'].apply(extract_year)\n",
    "test_data['year']=test_data['Title'].apply(extract_year)"
   ]
  },
  {
   "cell_type": "code",
   "execution_count": 19,
   "id": "d77b5f59-87e4-471a-9f01-aaf23d6a7460",
   "metadata": {},
   "outputs": [],
   "source": [
    "## Cleaning Movie Titles by Removing Year\n",
    "def transform_title(data):\n",
    "    if data.split('(')[-1][:4].isdigit():\n",
    "        return data.split('(')[:-1][0]\n",
    "    return None\n",
    "\n",
    "train_data['Title']=train_data['Title'].apply(transform_title)\n",
    "test_data['Title']=test_data['Title'].apply(transform_title)"
   ]
  },
  {
   "cell_type": "code",
   "execution_count": 20,
   "id": "d3c2d757-146c-43ba-b5ee-64955a7f9c58",
   "metadata": {},
   "outputs": [
    {
     "data": {
      "text/html": [
       "<div>\n",
       "<style scoped>\n",
       "    .dataframe tbody tr th:only-of-type {\n",
       "        vertical-align: middle;\n",
       "    }\n",
       "\n",
       "    .dataframe tbody tr th {\n",
       "        vertical-align: top;\n",
       "    }\n",
       "\n",
       "    .dataframe thead th {\n",
       "        text-align: right;\n",
       "    }\n",
       "</style>\n",
       "<table border=\"1\" class=\"dataframe\">\n",
       "  <thead>\n",
       "    <tr style=\"text-align: right;\">\n",
       "      <th></th>\n",
       "      <th>Title</th>\n",
       "      <th>Genre</th>\n",
       "      <th>Description</th>\n",
       "      <th>year</th>\n",
       "    </tr>\n",
       "  </thead>\n",
       "  <tbody>\n",
       "    <tr>\n",
       "      <th>0</th>\n",
       "      <td>Oscar et la dame rose</td>\n",
       "      <td>drama</td>\n",
       "      <td>Listening in to a conversation between his do...</td>\n",
       "      <td>2009.0</td>\n",
       "    </tr>\n",
       "    <tr>\n",
       "      <th>1</th>\n",
       "      <td>Cupid</td>\n",
       "      <td>thriller</td>\n",
       "      <td>A brother and sister with a past incestuous r...</td>\n",
       "      <td>1997.0</td>\n",
       "    </tr>\n",
       "    <tr>\n",
       "      <th>2</th>\n",
       "      <td>Young, Wild and Wonderful</td>\n",
       "      <td>adult</td>\n",
       "      <td>As the bus empties the students for their fie...</td>\n",
       "      <td>1980.0</td>\n",
       "    </tr>\n",
       "    <tr>\n",
       "      <th>3</th>\n",
       "      <td>The Secret Sin</td>\n",
       "      <td>drama</td>\n",
       "      <td>To help their unemployed father make ends mee...</td>\n",
       "      <td>1915.0</td>\n",
       "    </tr>\n",
       "    <tr>\n",
       "      <th>4</th>\n",
       "      <td>The Unrecovered</td>\n",
       "      <td>drama</td>\n",
       "      <td>The film's title refers not only to the un-re...</td>\n",
       "      <td>2007.0</td>\n",
       "    </tr>\n",
       "  </tbody>\n",
       "</table>\n",
       "</div>"
      ],
      "text/plain": [
       "                         Title       Genre  \\\n",
       "0       Oscar et la dame rose       drama    \n",
       "1                       Cupid    thriller    \n",
       "2   Young, Wild and Wonderful       adult    \n",
       "3              The Secret Sin       drama    \n",
       "4             The Unrecovered       drama    \n",
       "\n",
       "                                         Description    year  \n",
       "0   Listening in to a conversation between his do...  2009.0  \n",
       "1   A brother and sister with a past incestuous r...  1997.0  \n",
       "2   As the bus empties the students for their fie...  1980.0  \n",
       "3   To help their unemployed father make ends mee...  1915.0  \n",
       "4   The film's title refers not only to the un-re...  2007.0  "
      ]
     },
     "execution_count": 20,
     "metadata": {},
     "output_type": "execute_result"
    }
   ],
   "source": [
    "train_data.head()"
   ]
  },
  {
   "cell_type": "code",
   "execution_count": 21,
   "id": "b1aea10c-57ec-4f25-9ef1-e1c5b9b5b9c0",
   "metadata": {},
   "outputs": [
    {
     "data": {
      "text/html": [
       "<div>\n",
       "<style scoped>\n",
       "    .dataframe tbody tr th:only-of-type {\n",
       "        vertical-align: middle;\n",
       "    }\n",
       "\n",
       "    .dataframe tbody tr th {\n",
       "        vertical-align: top;\n",
       "    }\n",
       "\n",
       "    .dataframe thead th {\n",
       "        text-align: right;\n",
       "    }\n",
       "</style>\n",
       "<table border=\"1\" class=\"dataframe\">\n",
       "  <thead>\n",
       "    <tr style=\"text-align: right;\">\n",
       "      <th></th>\n",
       "      <th>Title</th>\n",
       "      <th>Genre</th>\n",
       "      <th>Description</th>\n",
       "      <th>year</th>\n",
       "    </tr>\n",
       "  </thead>\n",
       "  <tbody>\n",
       "    <tr>\n",
       "      <th>0</th>\n",
       "      <td>Edgar's Lunch</td>\n",
       "      <td>L.R. Brane loves his life - his car, his apar...</td>\n",
       "      <td>NaN</td>\n",
       "      <td>1998.0</td>\n",
       "    </tr>\n",
       "    <tr>\n",
       "      <th>1</th>\n",
       "      <td>La guerra de papá</td>\n",
       "      <td>Spain, March 1964: Quico is a very naughty ch...</td>\n",
       "      <td>NaN</td>\n",
       "      <td>1977.0</td>\n",
       "    </tr>\n",
       "    <tr>\n",
       "      <th>2</th>\n",
       "      <td>Off the Beaten Track</td>\n",
       "      <td>One year in the life of Albin and his family ...</td>\n",
       "      <td>NaN</td>\n",
       "      <td>2010.0</td>\n",
       "    </tr>\n",
       "    <tr>\n",
       "      <th>3</th>\n",
       "      <td>Meu Amigo Hindu</td>\n",
       "      <td>His father has died, he hasn't spoken with hi...</td>\n",
       "      <td>NaN</td>\n",
       "      <td>2015.0</td>\n",
       "    </tr>\n",
       "    <tr>\n",
       "      <th>4</th>\n",
       "      <td>Er nu zhai</td>\n",
       "      <td>Before he was known internationally as a mart...</td>\n",
       "      <td>NaN</td>\n",
       "      <td>1955.0</td>\n",
       "    </tr>\n",
       "  </tbody>\n",
       "</table>\n",
       "</div>"
      ],
      "text/plain": [
       "                    Title                                              Genre  \\\n",
       "0          Edgar's Lunch    L.R. Brane loves his life - his car, his apar...   \n",
       "1      La guerra de papá    Spain, March 1964: Quico is a very naughty ch...   \n",
       "2   Off the Beaten Track    One year in the life of Albin and his family ...   \n",
       "3        Meu Amigo Hindu    His father has died, he hasn't spoken with hi...   \n",
       "4             Er nu zhai    Before he was known internationally as a mart...   \n",
       "\n",
       "   Description    year  \n",
       "0          NaN  1998.0  \n",
       "1          NaN  1977.0  \n",
       "2          NaN  2010.0  \n",
       "3          NaN  2015.0  \n",
       "4          NaN  1955.0  "
      ]
     },
     "execution_count": 21,
     "metadata": {},
     "output_type": "execute_result"
    }
   ],
   "source": [
    "test_data.head()"
   ]
  },
  {
   "cell_type": "markdown",
   "id": "eb11c62a-7536-401f-bc1f-1787c55864c5",
   "metadata": {},
   "source": [
    "### Missing Values"
   ]
  },
  {
   "cell_type": "code",
   "execution_count": 23,
   "id": "806b099e-851c-425e-88ca-8aaa7d33b576",
   "metadata": {},
   "outputs": [
    {
     "name": "stdout",
     "output_type": "stream",
     "text": [
      "\"Year\" Column on train dataset got 4.965507064595861 percent missing values.\n"
     ]
    }
   ],
   "source": [
    "missing_val=train_data.isna().sum()['year']\n",
    "total_val=train_data.shape[0]\n",
    "print(f'\"Year\" Column on train dataset got {(missing_val/total_val)*100} percent missing values.')"
   ]
  },
  {
   "cell_type": "code",
   "execution_count": 24,
   "id": "d704fb9f-b074-46d2-a22e-c015ffd41480",
   "metadata": {},
   "outputs": [
    {
     "name": "stdout",
     "output_type": "stream",
     "text": [
      "\"Year\" Column on test dataset got 5.119926199261993 percent missing values.\n"
     ]
    }
   ],
   "source": [
    "missing_val=test_data.isna().sum()['year']\n",
    "total_val=test_data.shape[0]\n",
    "print(f'\"Year\" Column on test dataset got {(missing_val/total_val)*100} percent missing values.')"
   ]
  },
  {
   "cell_type": "markdown",
   "id": "c751b83f-6eb7-4a72-b99b-cf6d8eb04272",
   "metadata": {},
   "source": [
    "## EDA (Exploratory Data Analysis) & Visulaizations"
   ]
  },
  {
   "cell_type": "code",
   "execution_count": 26,
   "id": "1302c9f4-635d-4ef0-b04f-e1060515514c",
   "metadata": {},
   "outputs": [
    {
     "data": {
      "image/png": "[encoded data removed]",
      "text/plain": [
       "<Figure size 640x480 with 1 Axes>"
      ]
     },
     "metadata": {},
     "output_type": "display_data"
    }
   ],
   "source": [
    "## Visualizing Year Distribution with KDE Plot\n",
    "train_data['year'].plot(kind='kde',color='red')\n",
    "plt.show()"
   ]
  },
  {
   "cell_type": "code",
   "execution_count": 27,
   "id": "969ab757-384c-4b45-8add-45315a08936d",
   "metadata": {},
   "outputs": [
    {
     "data": {
      "image/png": "[encoded data removed]",
      "text/plain": [
       "<Figure size 640x480 with 1 Axes>"
      ]
     },
     "metadata": {},
     "output_type": "display_data"
    }
   ],
   "source": [
    "test_data['year'].plot(kind='kde',color='blue')\n",
    "plt.show()"
   ]
  },
  {
   "cell_type": "code",
   "execution_count": 28,
   "id": "297cbe46-ba3a-4e15-96d1-785857ba558f",
   "metadata": {},
   "outputs": [
    {
     "data": {
      "image/png": "[encoded data removed]",
      "text/plain": [
       "<Figure size 1400x700 with 1 Axes>"
      ]
     },
     "metadata": {},
     "output_type": "display_data"
    },
    {
     "data": {
      "image/png": "[encoded data removed]",
      "text/plain": [
       "<Figure size 1400x700 with 1 Axes>"
      ]
     },
     "metadata": {},
     "output_type": "display_data"
    }
   ],
   "source": [
    "import matplotlib.pyplot as plt\n",
    "import seaborn as sns\n",
    "\n",
    "# Plot the distribution of genres in the training data\n",
    "plt.figure(figsize=(14, 7))\n",
    "sns.countplot(data=train_data, y='Genre', order=train_data['Genre'].value_counts().index, hue='Genre', palette='viridis', legend=False)\n",
    "plt.xlabel('Count', fontsize=14, fontweight='bold')\n",
    "plt.ylabel('Genre', fontsize=14, fontweight='bold')\n",
    "\n",
    "# Plot the distribution of genres using a bar plot\n",
    "plt.figure(figsize=(14, 7))\n",
    "counts = train_data['Genre'].value_counts()\n",
    "sns.barplot(x=counts.index, y=counts, hue=counts.index, palette='viridis', legend=False)\n",
    "plt.xlabel('Genre', fontsize=14, fontweight='bold')\n",
    "plt.ylabel('Count', fontsize=14, fontweight='bold')\n",
    "plt.title('Distribution of Genres', fontsize=16, fontweight='bold')\n",
    "plt.xticks(rotation=90, fontsize=14, fontweight='bold')\n",
    "plt.show()"
   ]
  },
  {
   "cell_type": "code",
   "execution_count": 29,
   "id": "ce1ddfab-e783-4a20-8810-3773496f7449",
   "metadata": {},
   "outputs": [
    {
     "data": {
      "image/png": "[encoded data removed]",
      "text/plain": [
       "<Figure size 640x480 with 1 Axes>"
      ]
     },
     "metadata": {},
     "output_type": "display_data"
    }
   ],
   "source": [
    "train_data['Genre'].value_counts().plot(kind='pie')\n",
    "plt.show()"
   ]
  },
  {
   "cell_type": "code",
   "execution_count": 30,
   "id": "c5df01e7-5298-434e-9371-e54633cce33b",
   "metadata": {},
   "outputs": [],
   "source": [
    "# making x_train & y_train and x_test & y_test\n",
    "\n",
    "x_train=train_data.drop('Genre',axis=1)\n",
    "y_train=train_data['Genre']\n",
    "\n",
    "x_test=test_data.drop('Genre',axis=1)\n",
    "y_test=test_data['Genre']"
   ]
  },
  {
   "cell_type": "code",
   "execution_count": 31,
   "id": "91d6b613-d245-43be-9962-4ca0bd208e32",
   "metadata": {},
   "outputs": [],
   "source": [
    "import numpy as np\n",
    "from sklearn.pipeline import Pipeline\n",
    "from sklearn.compose import ColumnTransformer\n",
    "from sklearn.impute import SimpleImputer\n",
    "from sklearn.preprocessing import KBinsDiscretizer\n",
    "\n",
    "# for imputing missing values\n",
    "tran_imputing_na_101 = ColumnTransformer(\n",
    "    [(\"fill_na\", SimpleImputer(missing_values=np.nan, strategy='mean'), [-1])],remainder='passthrough')\n",
    "\n",
    "# put bins on year column\n",
    "tran_binning_102 = ColumnTransformer(\n",
    "    [(\"binning_year\", KBinsDiscretizer(n_bins=3, encode='ordinal', strategy='quantile'), [0])],remainder='passthrough')\n",
    "\n",
    "pipeline_101 = Pipeline([('Imputing_values',tran_imputing_na_101),('Binning',tran_binning_102)])"
   ]
  },
  {
   "cell_type": "code",
   "execution_count": 32,
   "id": "3530e19b-936e-4fe9-9dc9-a0d2388ffa9d",
   "metadata": {},
   "outputs": [],
   "source": [
    "x_train=pipeline_101.fit_transform(x_train)\n",
    "x_test=pipeline_101.fit_transform(x_test)"
   ]
  },
  {
   "cell_type": "code",
   "execution_count": 33,
   "id": "6e65e5ef-2d80-4271-8c5b-5fe6d2c98fc4",
   "metadata": {},
   "outputs": [],
   "source": [
    "from sklearn.base import BaseEstimator, TransformerMixin\n",
    "\n",
    "class merge(BaseEstimator, TransformerMixin):\n",
    "    def __init__(self):\n",
    "        pass\n",
    "    def fit(self,data,y=None):\n",
    "        return self\n",
    "    def transform(self,data,y=None):\n",
    "        #data=np.array(data)\n",
    "        for i in range(data.shape[0]):\n",
    "            one_cell=''\n",
    "            for individual in data[i]:\n",
    "                one_cell += str(individual)\n",
    "            data[i]=one_cell\n",
    "        return data[:,:1].flatten()\n",
    "\n",
    "\n",
    "# merging all the individual columns and making them one\n",
    "pipeline_201 = Pipeline([('merging_columns_into_single',merge())])"
   ]
  },
  {
   "cell_type": "code",
   "execution_count": 34,
   "id": "641c102e-2f7d-4fca-81b1-256937cdf61c",
   "metadata": {},
   "outputs": [],
   "source": [
    "x_train=pipeline_201.fit_transform(x_train)\n",
    "x_test=pipeline_201.fit_transform(x_test)"
   ]
  },
  {
   "cell_type": "code",
   "execution_count": 35,
   "id": "7325e3e7-6387-4bcf-8035-4ebac8994bd0",
   "metadata": {},
   "outputs": [
    {
     "name": "stdout",
     "output_type": "stream",
     "text": [
      "Requirement already satisfied: spacy in c:\\users\\prana\\anaconda3\\lib\\site-packages (3.8.4)\n",
      "Requirement already satisfied: spacy-legacy<3.1.0,>=3.0.11 in c:\\users\\prana\\anaconda3\\lib\\site-packages (from spacy) (3.0.12)\n",
      "Requirement already satisfied: spacy-loggers<2.0.0,>=1.0.0 in c:\\users\\prana\\anaconda3\\lib\\site-packages (from spacy) (1.0.5)\n",
      "Requirement already satisfied: murmurhash<1.1.0,>=0.28.0 in c:\\users\\prana\\anaconda3\\lib\\site-packages (from spacy) (1.0.12)\n",
      "Requirement already satisfied: cymem<2.1.0,>=2.0.2 in c:\\users\\prana\\anaconda3\\lib\\site-packages (from spacy) (2.0.11)\n",
      "Requirement already satisfied: preshed<3.1.0,>=3.0.2 in c:\\users\\prana\\anaconda3\\lib\\site-packages (from spacy) (3.0.9)\n",
      "Requirement already satisfied: thinc<8.4.0,>=8.3.4 in c:\\users\\prana\\anaconda3\\lib\\site-packages (from spacy) (8.3.4)\n",
      "Requirement already satisfied: wasabi<1.2.0,>=0.9.1 in c:\\users\\prana\\anaconda3\\lib\\site-packages (from spacy) (1.1.3)\n",
      "Requirement already satisfied: srsly<3.0.0,>=2.4.3 in c:\\users\\prana\\anaconda3\\lib\\site-packages (from spacy) (2.5.1)\n",
      "Requirement already satisfied: catalogue<2.1.0,>=2.0.6 in c:\\users\\prana\\anaconda3\\lib\\site-packages (from spacy) (2.0.10)\n",
      "Requirement already satisfied: weasel<0.5.0,>=0.1.0 in c:\\users\\prana\\anaconda3\\lib\\site-packages (from spacy) (0.4.1)\n",
      "Requirement already satisfied: typer<1.0.0,>=0.3.0 in c:\\users\\prana\\anaconda3\\lib\\site-packages (from spacy) (0.9.0)\n",
      "Requirement already satisfied: tqdm<5.0.0,>=4.38.0 in c:\\users\\prana\\anaconda3\\lib\\site-packages (from spacy) (4.66.5)\n",
      "Requirement already satisfied: numpy>=1.19.0 in c:\\users\\prana\\anaconda3\\lib\\site-packages (from spacy) (1.26.4)\n",
      "Requirement already satisfied: requests<3.0.0,>=2.13.0 in c:\\users\\prana\\anaconda3\\lib\\site-packages (from spacy) (2.32.3)\n",
      "Requirement already satisfied: pydantic!=1.8,!=1.8.1,<3.0.0,>=1.7.4 in c:\\users\\prana\\anaconda3\\lib\\site-packages (from spacy) (2.8.2)\n",
      "Requirement already satisfied: jinja2 in c:\\users\\prana\\anaconda3\\lib\\site-packages (from spacy) (3.1.4)\n",
      "Requirement already satisfied: setuptools in c:\\users\\prana\\anaconda3\\lib\\site-packages (from spacy) (75.1.0)\n",
      "Requirement already satisfied: packaging>=20.0 in c:\\users\\prana\\anaconda3\\lib\\site-packages (from spacy) (24.1)\n",
      "Requirement already satisfied: langcodes<4.0.0,>=3.2.0 in c:\\users\\prana\\anaconda3\\lib\\site-packages (from spacy) (3.5.0)\n",
      "Requirement already satisfied: language-data>=1.2 in c:\\users\\prana\\anaconda3\\lib\\site-packages (from langcodes<4.0.0,>=3.2.0->spacy) (1.3.0)\n",
      "Requirement already satisfied: annotated-types>=0.4.0 in c:\\users\\prana\\anaconda3\\lib\\site-packages (from pydantic!=1.8,!=1.8.1,<3.0.0,>=1.7.4->spacy) (0.6.0)\n",
      "Requirement already satisfied: pydantic-core==2.20.1 in c:\\users\\prana\\anaconda3\\lib\\site-packages (from pydantic!=1.8,!=1.8.1,<3.0.0,>=1.7.4->spacy) (2.20.1)\n",
      "Requirement already satisfied: typing-extensions>=4.6.1 in c:\\users\\prana\\anaconda3\\lib\\site-packages (from pydantic!=1.8,!=1.8.1,<3.0.0,>=1.7.4->spacy) (4.11.0)\n",
      "Requirement already satisfied: charset-normalizer<4,>=2 in c:\\users\\prana\\anaconda3\\lib\\site-packages (from requests<3.0.0,>=2.13.0->spacy) (3.3.2)\n",
      "Requirement already satisfied: idna<4,>=2.5 in c:\\users\\prana\\anaconda3\\lib\\site-packages (from requests<3.0.0,>=2.13.0->spacy) (3.7)\n",
      "Requirement already satisfied: urllib3<3,>=1.21.1 in c:\\users\\prana\\anaconda3\\lib\\site-packages (from requests<3.0.0,>=2.13.0->spacy) (2.2.3)\n",
      "Requirement already satisfied: certifi>=2017.4.17 in c:\\users\\prana\\anaconda3\\lib\\site-packages (from requests<3.0.0,>=2.13.0->spacy) (2024.12.14)\n",
      "Requirement already satisfied: blis<1.3.0,>=1.2.0 in c:\\users\\prana\\anaconda3\\lib\\site-packages (from thinc<8.4.0,>=8.3.4->spacy) (1.2.0)\n",
      "Requirement already satisfied: confection<1.0.0,>=0.0.1 in c:\\users\\prana\\anaconda3\\lib\\site-packages (from thinc<8.4.0,>=8.3.4->spacy) (0.1.5)\n",
      "Requirement already satisfied: colorama in c:\\users\\prana\\anaconda3\\lib\\site-packages (from tqdm<5.0.0,>=4.38.0->spacy) (0.4.6)\n",
      "Requirement already satisfied: click<9.0.0,>=7.1.1 in c:\\users\\prana\\anaconda3\\lib\\site-packages (from typer<1.0.0,>=0.3.0->spacy) (8.1.7)\n",
      "Requirement already satisfied: cloudpathlib<1.0.0,>=0.7.0 in c:\\users\\prana\\anaconda3\\lib\\site-packages (from weasel<0.5.0,>=0.1.0->spacy) (0.21.0)\n",
      "Requirement already satisfied: smart-open<8.0.0,>=5.2.1 in c:\\users\\prana\\anaconda3\\lib\\site-packages (from weasel<0.5.0,>=0.1.0->spacy) (5.2.1)\n",
      "Requirement already satisfied: MarkupSafe>=2.0 in c:\\users\\prana\\anaconda3\\lib\\site-packages (from jinja2->spacy) (2.1.3)\n",
      "Requirement already satisfied: marisa-trie>=1.1.0 in c:\\users\\prana\\anaconda3\\lib\\site-packages (from language-data>=1.2->langcodes<4.0.0,>=3.2.0->spacy) (1.2.1)\n",
      "Note: you may need to restart the kernel to use updated packages.\n"
     ]
    }
   ],
   "source": [
    "pip install spacy"
   ]
  },
  {
   "cell_type": "code",
   "execution_count": 36,
   "id": "35c83308-4cd7-4f58-b768-1da4544907d7",
   "metadata": {},
   "outputs": [
    {
     "name": "stdout",
     "output_type": "stream",
     "text": [
      "Found existing installation: spacy 3.8.4\n",
      "Uninstalling spacy-3.8.4:\n",
      "  Successfully uninstalled spacy-3.8.4\n",
      "Collecting spacy\n",
      "  Using cached spacy-3.8.4-cp312-cp312-win_amd64.whl.metadata (27 kB)\n",
      "Requirement already satisfied: spacy-legacy<3.1.0,>=3.0.11 in c:\\users\\prana\\anaconda3\\lib\\site-packages (from spacy) (3.0.12)\n",
      "Requirement already satisfied: spacy-loggers<2.0.0,>=1.0.0 in c:\\users\\prana\\anaconda3\\lib\\site-packages (from spacy) (1.0.5)\n",
      "Requirement already satisfied: murmurhash<1.1.0,>=0.28.0 in c:\\users\\prana\\anaconda3\\lib\\site-packages (from spacy) (1.0.12)\n",
      "Requirement already satisfied: cymem<2.1.0,>=2.0.2 in c:\\users\\prana\\anaconda3\\lib\\site-packages (from spacy) (2.0.11)\n",
      "Requirement already satisfied: preshed<3.1.0,>=3.0.2 in c:\\users\\prana\\anaconda3\\lib\\site-packages (from spacy) (3.0.9)\n",
      "Requirement already satisfied: thinc<8.4.0,>=8.3.4 in c:\\users\\prana\\anaconda3\\lib\\site-packages (from spacy) (8.3.4)\n",
      "Requirement already satisfied: wasabi<1.2.0,>=0.9.1 in c:\\users\\prana\\anaconda3\\lib\\site-packages (from spacy) (1.1.3)\n",
      "Requirement already satisfied: srsly<3.0.0,>=2.4.3 in c:\\users\\prana\\anaconda3\\lib\\site-packages (from spacy) (2.5.1)\n",
      "Requirement already satisfied: catalogue<2.1.0,>=2.0.6 in c:\\users\\prana\\anaconda3\\lib\\site-packages (from spacy) (2.0.10)\n",
      "Requirement already satisfied: weasel<0.5.0,>=0.1.0 in c:\\users\\prana\\anaconda3\\lib\\site-packages (from spacy) (0.4.1)\n",
      "Requirement already satisfied: typer<1.0.0,>=0.3.0 in c:\\users\\prana\\anaconda3\\lib\\site-packages (from spacy) (0.9.0)\n",
      "Requirement already satisfied: tqdm<5.0.0,>=4.38.0 in c:\\users\\prana\\anaconda3\\lib\\site-packages (from spacy) (4.66.5)\n",
      "Requirement already satisfied: numpy>=1.19.0 in c:\\users\\prana\\anaconda3\\lib\\site-packages (from spacy) (1.26.4)\n",
      "Requirement already satisfied: requests<3.0.0,>=2.13.0 in c:\\users\\prana\\anaconda3\\lib\\site-packages (from spacy) (2.32.3)\n",
      "Requirement already satisfied: pydantic!=1.8,!=1.8.1,<3.0.0,>=1.7.4 in c:\\users\\prana\\anaconda3\\lib\\site-packages (from spacy) (2.8.2)\n",
      "Requirement already satisfied: jinja2 in c:\\users\\prana\\anaconda3\\lib\\site-packages (from spacy) (3.1.4)\n",
      "Requirement already satisfied: setuptools in c:\\users\\prana\\anaconda3\\lib\\site-packages (from spacy) (75.1.0)\n",
      "Requirement already satisfied: packaging>=20.0 in c:\\users\\prana\\anaconda3\\lib\\site-packages (from spacy) (24.1)\n",
      "Requirement already satisfied: langcodes<4.0.0,>=3.2.0 in c:\\users\\prana\\anaconda3\\lib\\site-packages (from spacy) (3.5.0)\n",
      "Requirement already satisfied: language-data>=1.2 in c:\\users\\prana\\anaconda3\\lib\\site-packages (from langcodes<4.0.0,>=3.2.0->spacy) (1.3.0)\n",
      "Requirement already satisfied: annotated-types>=0.4.0 in c:\\users\\prana\\anaconda3\\lib\\site-packages (from pydantic!=1.8,!=1.8.1,<3.0.0,>=1.7.4->spacy) (0.6.0)\n",
      "Requirement already satisfied: pydantic-core==2.20.1 in c:\\users\\prana\\anaconda3\\lib\\site-packages (from pydantic!=1.8,!=1.8.1,<3.0.0,>=1.7.4->spacy) (2.20.1)\n",
      "Requirement already satisfied: typing-extensions>=4.6.1 in c:\\users\\prana\\anaconda3\\lib\\site-packages (from pydantic!=1.8,!=1.8.1,<3.0.0,>=1.7.4->spacy) (4.11.0)\n",
      "Requirement already satisfied: charset-normalizer<4,>=2 in c:\\users\\prana\\anaconda3\\lib\\site-packages (from requests<3.0.0,>=2.13.0->spacy) (3.3.2)\n",
      "Requirement already satisfied: idna<4,>=2.5 in c:\\users\\prana\\anaconda3\\lib\\site-packages (from requests<3.0.0,>=2.13.0->spacy) (3.7)\n",
      "Requirement already satisfied: urllib3<3,>=1.21.1 in c:\\users\\prana\\anaconda3\\lib\\site-packages (from requests<3.0.0,>=2.13.0->spacy) (2.2.3)\n",
      "Requirement already satisfied: certifi>=2017.4.17 in c:\\users\\prana\\anaconda3\\lib\\site-packages (from requests<3.0.0,>=2.13.0->spacy) (2024.12.14)\n",
      "Requirement already satisfied: blis<1.3.0,>=1.2.0 in c:\\users\\prana\\anaconda3\\lib\\site-packages (from thinc<8.4.0,>=8.3.4->spacy) (1.2.0)\n",
      "Requirement already satisfied: confection<1.0.0,>=0.0.1 in c:\\users\\prana\\anaconda3\\lib\\site-packages (from thinc<8.4.0,>=8.3.4->spacy) (0.1.5)\n",
      "Requirement already satisfied: colorama in c:\\users\\prana\\anaconda3\\lib\\site-packages (from tqdm<5.0.0,>=4.38.0->spacy) (0.4.6)\n",
      "Requirement already satisfied: click<9.0.0,>=7.1.1 in c:\\users\\prana\\anaconda3\\lib\\site-packages (from typer<1.0.0,>=0.3.0->spacy) (8.1.7)\n",
      "Requirement already satisfied: cloudpathlib<1.0.0,>=0.7.0 in c:\\users\\prana\\anaconda3\\lib\\site-packages (from weasel<0.5.0,>=0.1.0->spacy) (0.21.0)\n",
      "Requirement already satisfied: smart-open<8.0.0,>=5.2.1 in c:\\users\\prana\\anaconda3\\lib\\site-packages (from weasel<0.5.0,>=0.1.0->spacy) (5.2.1)\n",
      "Requirement already satisfied: MarkupSafe>=2.0 in c:\\users\\prana\\anaconda3\\lib\\site-packages (from jinja2->spacy) (2.1.3)\n",
      "Requirement already satisfied: marisa-trie>=1.1.0 in c:\\users\\prana\\anaconda3\\lib\\site-packages (from language-data>=1.2->langcodes<4.0.0,>=3.2.0->spacy) (1.2.1)\n",
      "Using cached spacy-3.8.4-cp312-cp312-win_amd64.whl (11.8 MB)\n",
      "Installing collected packages: spacy\n",
      "Successfully installed spacy-3.8.4\n",
      "Collecting en-core-web-sm==3.8.0\n",
      "  Downloading https://github.com/explosion/spacy-models/releases/download/en_core_web_sm-3.8.0/en_core_web_sm-3.8.0-py3-none-any.whl (12.8 MB)\n",
      "     ---------------------------------------- 0.0/12.8 MB ? eta -:--:--\n",
      "     ---------------------------------------- 0.0/12.8 MB ? eta -:--:--\n",
      "      --------------------------------------- 0.3/12.8 MB ? eta -:--:--\n",
      "      --------------------------------------- 0.3/12.8 MB ? eta -:--:--\n",
      "     - ------------------------------------- 0.5/12.8 MB 762.0 kB/s eta 0:00:17\n",
      "     -- ------------------------------------ 0.8/12.8 MB 859.5 kB/s eta 0:00:14\n",
      "     --- ----------------------------------- 1.0/12.8 MB 914.5 kB/s eta 0:00:13\n",
      "     --- ----------------------------------- 1.3/12.8 MB 958.5 kB/s eta 0:00:12\n",
      "     ---- ----------------------------------- 1.6/12.8 MB 1.0 MB/s eta 0:00:12\n",
      "     ----- ---------------------------------- 1.8/12.8 MB 1.0 MB/s eta 0:00:11\n",
      "     ------ --------------------------------- 2.1/12.8 MB 1.1 MB/s eta 0:00:10\n",
      "     ------- -------------------------------- 2.4/12.8 MB 1.1 MB/s eta 0:00:10\n",
      "     -------- ------------------------------- 2.6/12.8 MB 1.2 MB/s eta 0:00:09\n",
      "     --------- ------------------------------ 3.1/12.8 MB 1.2 MB/s eta 0:00:08\n",
      "     ---------- ----------------------------- 3.4/12.8 MB 1.3 MB/s eta 0:00:08\n",
      "     ------------ --------------------------- 3.9/12.8 MB 1.3 MB/s eta 0:00:07\n",
      "     ------------- -------------------------- 4.2/12.8 MB 1.3 MB/s eta 0:00:07\n",
      "     -------------- ------------------------- 4.7/12.8 MB 1.4 MB/s eta 0:00:06\n",
      "     --------------- ------------------------ 5.0/12.8 MB 1.4 MB/s eta 0:00:06\n",
      "     ----------------- ---------------------- 5.5/12.8 MB 1.5 MB/s eta 0:00:05\n",
      "     ------------------ --------------------- 6.0/12.8 MB 1.5 MB/s eta 0:00:05\n",
      "     ------------------- -------------------- 6.3/12.8 MB 1.5 MB/s eta 0:00:05\n",
      "     --------------------- ------------------ 6.8/12.8 MB 1.6 MB/s eta 0:00:04\n",
      "     ---------------------- ----------------- 7.3/12.8 MB 1.6 MB/s eta 0:00:04\n",
      "     ------------------------ --------------- 7.9/12.8 MB 1.7 MB/s eta 0:00:03\n",
      "     -------------------------- ------------- 8.4/12.8 MB 1.7 MB/s eta 0:00:03\n",
      "     --------------------------- ------------ 8.7/12.8 MB 1.7 MB/s eta 0:00:03\n",
      "     --------------------------- ------------ 8.7/12.8 MB 1.7 MB/s eta 0:00:03\n",
      "     --------------------------- ------------ 8.9/12.8 MB 1.6 MB/s eta 0:00:03\n",
      "     ---------------------------- ----------- 9.2/12.8 MB 1.6 MB/s eta 0:00:03\n",
      "     ----------------------------- ---------- 9.4/12.8 MB 1.6 MB/s eta 0:00:03\n",
      "     ------------------------------ --------- 9.7/12.8 MB 1.6 MB/s eta 0:00:02\n",
      "     ------------------------------- -------- 10.0/12.8 MB 1.5 MB/s eta 0:00:02\n",
      "     ------------------------------- -------- 10.2/12.8 MB 1.5 MB/s eta 0:00:02\n",
      "     -------------------------------- ------- 10.5/12.8 MB 1.5 MB/s eta 0:00:02\n",
      "     --------------------------------- ------ 10.7/12.8 MB 1.5 MB/s eta 0:00:02\n",
      "     ---------------------------------- ----- 11.0/12.8 MB 1.5 MB/s eta 0:00:02\n",
      "     ----------------------------------- ---- 11.3/12.8 MB 1.5 MB/s eta 0:00:01\n",
      "     ------------------------------------ --- 11.8/12.8 MB 1.5 MB/s eta 0:00:01\n",
      "     ------------------------------------- -- 12.1/12.8 MB 1.5 MB/s eta 0:00:01\n",
      "     ---------------------------------------  12.6/12.8 MB 1.6 MB/s eta 0:00:01\n",
      "     ---------------------------------------- 12.8/12.8 MB 1.6 MB/s eta 0:00:00\n",
      "\u001b[38;5;2m[+] Download and installation successful\u001b[0m\n",
      "You can now load the package via spacy.load('en_core_web_sm')\n"
     ]
    }
   ],
   "source": [
    "!pip uninstall -y spacy\n",
    "!pip install spacy\n",
    "!python -m spacy download en_core_web_sm"
   ]
  },
  {
   "cell_type": "code",
   "execution_count": 37,
   "id": "6e7be9f2-7767-422b-96f5-f9458c21c759",
   "metadata": {},
   "outputs": [],
   "source": [
    "import spacy\n",
    "from sklearn.base import BaseEstimator, TransformerMixin\n",
    "from sklearn.pipeline import Pipeline\n",
    "\n",
    "class text_processing(BaseEstimator, TransformerMixin):\n",
    "    def __init__(self):\n",
    "        pass\n",
    "    def fit(self, data, y=None):\n",
    "        return self\n",
    "    def transform(self, data, y=None):\n",
    "        for i in range(data.shape[0]):\n",
    "            filter_token = ''\n",
    "            for token in nlp(data[i]):\n",
    "                if not token.is_punct and not token.is_stop:\n",
    "                    filter_token += (token.lower_ + ' ')\n",
    "            data[i] = filter_token.strip()  # Strip extra spaces\n",
    "        return data\n",
    "\n",
    "nlp = spacy.load('en_core_web_sm')  # Load Spacy model\n",
    "\n",
    "# Implementing text processing pipeline\n",
    "pipeline_301 = Pipeline([('text_processing', text_processing())])"
   ]
  },
  {
   "cell_type": "code",
   "execution_count": 38,
   "id": "0242cdfe-221d-4a35-96da-7b137926865c",
   "metadata": {},
   "outputs": [],
   "source": [
    "x_train=pipeline_301.fit_transform(x_train)\n",
    "x_test=pipeline_301.transform(x_test)"
   ]
  },
  {
   "cell_type": "code",
   "execution_count": 39,
   "id": "7b1626dc-d4e8-4dbd-a2c1-4a00e1cb3d9c",
   "metadata": {},
   "outputs": [],
   "source": [
    "from sklearn.feature_extraction.text import TfidfVectorizer\n",
    "from sklearn.pipeline import Pipeline\n",
    "\n",
    "pipeline_401 = Pipeline([('tf_idf_vector', TfidfVectorizer())])"
   ]
  },
  {
   "cell_type": "code",
   "execution_count": 40,
   "id": "43d94547-41f1-4496-aea7-38b8f57fdbe6",
   "metadata": {},
   "outputs": [],
   "source": [
    "x_train=pipeline_401.fit_transform(x_train)\n",
    "x_test=pipeline_401.transform(x_test)"
   ]
  },
  {
   "cell_type": "code",
   "execution_count": 41,
   "id": "bd856252-800d-4224-996f-c8a284ed191f",
   "metadata": {},
   "outputs": [],
   "source": [
    "from scipy import sparse\n",
    "\n",
    "x_train = sparse.csr_matrix(x_train)\n",
    "x_test = sparse.csr_matrix(x_test)"
   ]
  },
  {
   "cell_type": "code",
   "execution_count": 42,
   "id": "c56025ab-ac2c-4ee5-bf08-8a98d049c236",
   "metadata": {},
   "outputs": [],
   "source": [
    "# Performing Label Encoding on Output Column\n",
    "\n",
    "label_encoder=LabelEncoder()\n",
    "\n",
    "y_train=label_encoder.fit_transform(y_train)\n",
    "y_test=label_encoder.fit_transform(y_test)"
   ]
  },
  {
   "cell_type": "markdown",
   "id": "86fa07f5-85f6-4f50-a673-dfdcbb5eb630",
   "metadata": {},
   "source": [
    "## Implementing the Models"
   ]
  },
  {
   "cell_type": "code",
   "execution_count": 44,
   "id": "6649b216-e845-4d26-bafb-b107eac94bc4",
   "metadata": {},
   "outputs": [
    {
     "data": {
      "text/plain": [
       "1.845018450184502e-05"
      ]
     },
     "execution_count": 44,
     "metadata": {},
     "output_type": "execute_result"
    }
   ],
   "source": [
    "from sklearn.naive_bayes import BernoulliNB\n",
    "from sklearn.metrics import accuracy_score\n",
    "\n",
    "clf = BernoulliNB(alpha=2,fit_prior=False,binarize=0.019).fit(x_train,y_train)\n",
    "y_pred=clf.predict(x_test)\n",
    "accuracy_score(y_test, y_pred)"
   ]
  },
  {
   "cell_type": "code",
   "execution_count": 45,
   "id": "d682d3ca-8662-44d8-97e3-8c3fc625507c",
   "metadata": {},
   "outputs": [
    {
     "name": "stdout",
     "output_type": "stream",
     "text": [
      "Accuracy: 0.0\n"
     ]
    }
   ],
   "source": [
    "from sklearn.neighbors import KNeighborsClassifier\n",
    "from sklearn.metrics import accuracy_score\n",
    "\n",
    "neigh = KNeighborsClassifier(n_neighbors=230, weights='distance').fit(x_train, y_train)\n",
    "y_pred = neigh.predict(x_test)\n",
    "accuracy = accuracy_score(y_test, y_pred)\n",
    "\n",
    "print(\"Accuracy:\", accuracy)"
   ]
  },
  {
   "cell_type": "code",
   "execution_count": 46,
   "id": "154c3b3a-6090-4a01-9f58-9911a531ab99",
   "metadata": {},
   "outputs": [
    {
     "name": "stdout",
     "output_type": "stream",
     "text": [
      "Accuracy: 1.845018450184502e-05\n"
     ]
    }
   ],
   "source": [
    "from sklearn.ensemble import RandomForestClassifier\n",
    "from sklearn.metrics import accuracy_score\n",
    "\n",
    "rfc = RandomForestClassifier(n_estimators=195, random_state=42).fit(x_train, y_train)\n",
    "y_pred = rfc.predict(x_test)\n",
    "accuracy = accuracy_score(y_test, y_pred)\n",
    "\n",
    "print(\"Accuracy:\", accuracy)"
   ]
  },
  {
   "cell_type": "code",
   "execution_count": 47,
   "id": "2b32bd9e-351b-43ea-90d7-31254ad8bd3a",
   "metadata": {},
   "outputs": [
    {
     "name": "stderr",
     "output_type": "stream",
     "text": [
      "C:\\Users\\prana\\anaconda3\\Lib\\site-packages\\sklearn\\linear_model\\_logistic.py:1247: FutureWarning: 'multi_class' was deprecated in version 1.5 and will be removed in 1.7. From then on, it will always use 'multinomial'. Leave it to its default value to avoid this warning.\n",
      "  warnings.warn(\n"
     ]
    },
    {
     "name": "stdout",
     "output_type": "stream",
     "text": [
      "Accuracy: 1.845018450184502e-05\n"
     ]
    }
   ],
   "source": [
    "from sklearn.linear_model import LogisticRegression\n",
    "from sklearn.metrics import accuracy_score\n",
    "\n",
    "clf = LogisticRegression(multi_class='multinomial', solver='saga').fit(x_train, y_train)\n",
    "y_pred = clf.predict(x_test)\n",
    "accuracy = accuracy_score(y_test, y_pred)\n",
    "\n",
    "print(\"Accuracy:\", accuracy)"
   ]
  },
  {
   "cell_type": "code",
   "execution_count": null,
   "id": "db7cfec1-b8da-4e9e-9654-da43585891c3",
   "metadata": {},
   "outputs": [],
   "source": []
  }
 ],
 "metadata": {
  "kernelspec": {
   "display_name": "Python [conda env:base] *",
   "language": "python",
   "name": "conda-base-py"
  },
  "language_info": {
   "codemirror_mode": {
    "name": "ipython",
    "version": 3
   },
   "file_extension": ".py",
   "mimetype": "text/x-python",
   "name": "python",
   "nbconvert_exporter": "python",
   "pygments_lexer": "ipython3",
   "version": "3.12.7"
  }
 },
 "nbformat": 4,
 "nbformat_minor": 5
}
